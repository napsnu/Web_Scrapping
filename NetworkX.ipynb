{
 "cells": [
  {
   "cell_type": "code",
   "execution_count": 1,
   "id": "37f66715",
   "metadata": {},
   "outputs": [],
   "source": [
    "import networkx as nx\n",
    "import matplotlib.pyplot as plt"
   ]
  },
  {
   "cell_type": "code",
   "execution_count": 2,
   "id": "87435f7d",
   "metadata": {},
   "outputs": [],
   "source": [
    "g=nx.Graph()\n",
    "g.graph[\"Graph_Name\"] = \"g\""
   ]
  },
  {
   "cell_type": "code",
   "execution_count": 3,
   "id": "d3d41aa5",
   "metadata": {},
   "outputs": [],
   "source": [
    "g.add_node('V2')\n",
    "g.add_node('V3')\n",
    "g.add_node('V4')\n",
    "g.add_node('V5')\n",
    "g.add_node('V6')\n",
    "\n",
    "g_data = {\n",
    "    \"V1\" : [5,7,9,2],\n",
    "    \"V2\" : [-5,3,-1,7],\n",
    "    \"V3\" : [1,5,3,4],\n",
    "    \"V4\" : [5,-3,2,6],\n",
    "    \"V5\" : [3,4,6,7],\n",
    "    \"V6\" : [-3,4,6,-2]\n",
    "}"
   ]
  },
  {
   "cell_type": "code",
   "execution_count": 4,
   "id": "bf1149ef",
   "metadata": {},
   "outputs": [],
   "source": [
    "g.add_edges_from([\n",
    "    (\"V1\",\"V5\"),\n",
    "    (\"V5\",\"V4\"),\n",
    "    (\"V4\",\"V2\"),\n",
    "    (\"V2\",\"V1\"),\n",
    "    (\"V2\",\"V3\"),\n",
    "    (\"V3\",\"V6\"),\n",
    "    (\"V6\",\"V4\"),\n",
    "])"
   ]
  },
  {
   "cell_type": "code",
   "execution_count": 5,
   "id": "089ecbdf",
   "metadata": {},
   "outputs": [],
   "source": [
    "pos={\n",
    "    \"V1\":(0,4),\n",
    "    \"V2\":(0,0),\n",
    "    \"V3\":(2,2),\n",
    "    \"V4\":(4,0),\n",
    "    \"V5\":(4,5),\n",
    "    \"V6\":(6,2), \n",
    "}"
   ]
  },
  {
   "cell_type": "code",
   "execution_count": 6,
   "id": "a3c4db99",
   "metadata": {},
   "outputs": [
    {
     "data": {
      "image/png": "[encoded data removed]",
      "text/plain": [
       "<Figure size 432x288 with 1 Axes>"
      ]
     },
     "metadata": {},
     "output_type": "display_data"
    }
   ],
   "source": [
    "nx.draw(g,with_labels=True,pos = pos, node_color=\"grey\", node_size=2000)"
   ]
  },
  {
   "cell_type": "code",
   "execution_count": 7,
   "id": "ba322cbd",
   "metadata": {},
   "outputs": [
    {
     "name": "stdout",
     "output_type": "stream",
     "text": [
      "for  V1\n",
      "Data is  [5, 7, 9, 2]\n",
      "for  V2\n",
      "Data is  [-5, 3, -1, 7]\n",
      "for  V3\n",
      "Data is  [1, 5, 3, 4]\n",
      "for  V4\n",
      "Data is  [5, -3, 2, 6]\n",
      "for  V5\n",
      "Data is  [3, 4, 6, 7]\n",
      "for  V6\n",
      "Data is  [-3, 4, 6, -2]\n"
     ]
    }
   ],
   "source": [
    "for val in g_data:\n",
    "    print(\"for \", val)\n",
    "    print(\"Data is \", g_data[val])"
   ]
  },
  {
   "cell_type": "code",
   "execution_count": 8,
   "id": "69f348fb",
   "metadata": {},
   "outputs": [],
   "source": [
    "partition = [{\"V1\"}, {\"V2\"}, {\"V4\"}, {\"V5\"}, {\"V3\",\"V6\"}]"
   ]
  },
  {
   "cell_type": "code",
   "execution_count": 9,
   "id": "92fb7660",
   "metadata": {},
   "outputs": [],
   "source": [
    "G = nx.quotient_graph(g, partition, relabel=False)"
   ]
  },
  {
   "cell_type": "code",
   "execution_count": 10,
   "id": "800dae54",
   "metadata": {},
   "outputs": [],
   "source": [
    "mapping = {frozenset({'V1'}): 'V1', frozenset({'V2'}): 'V2', frozenset({'V3','V6'}): 'V3,V6', frozenset({'V4'}): 'V4', frozenset({'V5'}): 'V5'}\n",
    "\n",
    "G=nx.relabel_nodes(G, mapping)\n",
    "\n",
    "Npos={\n",
    "    \"V1\":(0,4),\n",
    "    \"V2\":(0,0),\n",
    "    \"V3,V6\":(2,2),\n",
    "    \"V4\":(4,0),\n",
    "    \"V5\":(4,5),\n",
    "}"
   ]
  },
  {
   "cell_type": "code",
   "execution_count": 11,
   "id": "43793dec",
   "metadata": {},
   "outputs": [],
   "source": [
    "dict = {}\n",
    "for i in g_data:\n",
    "  if i == \"V3\" or i == \"V6\":\n",
    "    dict[i]=g_data[i]\n",
    "\n",
    "sum=[]\n",
    "V3V6 = []\n",
    "for i in dict:\n",
    "  sum.append(dict[i])\n",
    "q =0\n",
    "p=0\n",
    "for i in sum:\n",
    "  for j in i:\n",
    "    if q < 4:\n",
    "      V3V6.append(j)\n",
    "      q=q+1\n",
    "    else:\n",
    "      V3V6[p]=(V3V6[p]+j)/2\n",
    "      p=p+1\n",
    "\n",
    "G_data = g_data.copy()\n",
    "del G_data[\"V3\"]\n",
    "del G_data[\"V6\"]\n",
    "G_data[\"V3V6\"]=V3V6"
   ]
  },
  {
   "cell_type": "code",
   "execution_count": 12,
   "id": "627448c2",
   "metadata": {},
   "outputs": [
    {
     "data": {
      "image/png": "[encoded data removed]",
      "text/plain": [
       "<Figure size 432x288 with 1 Axes>"
      ]
     },
     "metadata": {},
     "output_type": "display_data"
    }
   ],
   "source": [
    "nx.draw(G,with_labels=True,pos = Npos, node_color=\"grey\", node_size=2000)"
   ]
  },
  {
   "cell_type": "code",
   "execution_count": 13,
   "id": "eb213740",
   "metadata": {},
   "outputs": [
    {
     "name": "stdout",
     "output_type": "stream",
     "text": [
      "for  V1\n",
      "Data is  [5, 7, 9, 2]\n",
      "for  V2\n",
      "Data is  [-5, 3, -1, 7]\n",
      "for  V4\n",
      "Data is  [5, -3, 2, 6]\n",
      "for  V5\n",
      "Data is  [3, 4, 6, 7]\n",
      "for  V3V6\n",
      "Data is  [-1.0, 4.5, 4.5, 1.0]\n"
     ]
    }
   ],
   "source": [
    "for val in G_data:\n",
    "    print(\"for \", val)\n",
    "    print(\"Data is \", G_data[val])"
   ]
  }
 ],
 "metadata": {
  "kernelspec": {
   "display_name": "Python 3",
   "language": "python",
   "name": "python3"
  },
  "language_info": {
   "codemirror_mode": {
    "name": "ipython",
    "version": 3
   },
   "file_extension": ".py",
   "mimetype": "text/x-python",
   "name": "python",
   "nbconvert_exporter": "python",
   "pygments_lexer": "ipython3",
   "version": "3.11.1 (tags/v3.11.1:a7a450f, Dec  6 2022, 19:58:39) [MSC v.1934 64 bit (AMD64)]"
  },
  "vscode": {
   "interpreter": {
    "hash": "67e161734989a3eced3aafcf6ea1e9d963857f121b3dd548812b549b053f3dc2"
   }
  }
 },
 "nbformat": 4,
 "nbformat_minor": 5
}
