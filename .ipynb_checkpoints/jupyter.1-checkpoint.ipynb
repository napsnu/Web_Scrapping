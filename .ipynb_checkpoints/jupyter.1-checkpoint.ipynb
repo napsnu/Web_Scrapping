{
 "cells": [
  {
   "cell_type": "code",
   "execution_count": 3,
   "id": "a32d2743",
   "metadata": {},
   "outputs": [
    {
     "name": "stdout",
     "output_type": "stream",
     "text": [
      "first jupyter program \n"
     ]
    }
   ],
   "source": [
    "print(\"first jupyter program \")"
   ]
  },
  {
   "cell_type": "markdown",
   "id": "cbfe50ec",
   "metadata": {},
   "source": [
    "# Basics"
   ]
  },
  {
   "cell_type": "code",
   "execution_count": 4,
   "id": "d5a51590",
   "metadata": {},
   "outputs": [
    {
     "name": "stdout",
     "output_type": "stream",
     "text": [
      "skrrrrr\n"
     ]
    }
   ],
   "source": [
    "print(\"skrrrrr\")"
   ]
  }
 ],
 "metadata": {
  "kernelspec": {
   "display_name": "Python 3 (ipykernel)",
   "language": "python",
   "name": "python3"
  },
  "language_info": {
   "codemirror_mode": {
    "name": "ipython",
    "version": 3
   },
   "file_extension": ".py",
   "mimetype": "text/x-python",
   "name": "python",
   "nbconvert_exporter": "python",
   "pygments_lexer": "ipython3",
   "version": "3.9.12"
  }
 },
 "nbformat": 4,
 "nbformat_minor": 5
}
